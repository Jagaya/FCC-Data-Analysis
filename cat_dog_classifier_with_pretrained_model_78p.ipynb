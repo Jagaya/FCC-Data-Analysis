{
  "nbformat": 4,
  "nbformat_minor": 0,
  "metadata": {
    "accelerator": "GPU",
    "colab": {
      "name": "cat_dog-classifier with pretrained model 78%.ipynb",
      "provenance": [],
      "collapsed_sections": [],
      "include_colab_link": true
    },
    "kernelspec": {
      "display_name": "Python 3",
      "name": "python3"
    }
  },
  "cells": [
    {
      "cell_type": "markdown",
      "metadata": {
        "id": "view-in-github",
        "colab_type": "text"
      },
      "source": [
        "<a href=\"https://colab.research.google.com/github/Jagaya/FCC-Data-Analysis/blob/main/cat_dog_classifier_with_pretrained_model_78p.ipynb\" target=\"_parent\"><img src=\"https://colab.research.google.com/assets/colab-badge.svg\" alt=\"Open In Colab\"/></a>"
      ]
    },
    {
      "cell_type": "code",
      "metadata": {
        "id": "la_Oz6oLlub6"
      },
      "source": [
        "try:\n",
        "  # This command only in Colab.\n",
        "  %tensorflow_version 2.x\n",
        "except Exception:\n",
        "  pass\n",
        "import tensorflow as tf\n",
        "\n",
        "from tensorflow.keras.models import Sequential\n",
        "from tensorflow.keras.layers import Dense, Conv2D, Flatten, Dropout, MaxPooling2D\n",
        "from tensorflow.keras.preprocessing.image import ImageDataGenerator\n",
        "\n",
        "import os\n",
        "import numpy as np\n",
        "import matplotlib.pyplot as plt"
      ],
      "execution_count": null,
      "outputs": []
    },
    {
      "cell_type": "code",
      "metadata": {
        "id": "jaF8r6aOl48C"
      },
      "source": [
        "# Get project files\n",
        "!wget https://cdn.freecodecamp.org/project-data/cats-and-dogs/cats_and_dogs.zip\n",
        "\n",
        "!unzip cats_and_dogs.zip\n",
        "\n",
        "PATH = 'cats_and_dogs'\n",
        "\n",
        "train_dir = os.path.join(PATH, 'train')\n",
        "validation_dir = os.path.join(PATH, 'validation')\n",
        "test_dir = os.path.join(PATH, 'test')\n",
        "\n",
        "# Get number of files in each directory. The train and validation directories\n",
        "# each have the subdirecories \"dogs\" and \"cats\".\n",
        "total_train = sum([len(files) for r, d, files in os.walk(train_dir)])\n",
        "total_val = sum([len(files) for r, d, files in os.walk(validation_dir)])\n",
        "total_test = len(os.listdir(test_dir))"
      ],
      "execution_count": null,
      "outputs": []
    },
    {
      "cell_type": "code",
      "metadata": {
        "id": "4mR_x72uNZPQ"
      },
      "source": [
        "# Variables for pre-processing and training.\n",
        "batch_size = 128\n",
        "epochs = 15\n",
        "IMG_HEIGHT = 160\n",
        "IMG_WIDTH = 160"
      ],
      "execution_count": null,
      "outputs": []
    },
    {
      "cell_type": "code",
      "metadata": {
        "colab": {
          "base_uri": "https://localhost:8080/"
        },
        "id": "EOJFeEfumns6",
        "outputId": "f311e7e2-9f06-438e-8968-be10b8eb6d02"
      },
      "source": [
        "train_image_generator = ImageDataGenerator(rescale = 1./127.5 -1)\n",
        "validation_image_generator = ImageDataGenerator(rescale = 1./127.5 -1)\n",
        "test_image_generator = ImageDataGenerator(rescale = 1./127.5 -1)\n",
        "\n",
        "val_data_gen = validation_image_generator.flow_from_directory(\n",
        "    directory = validation_dir,\n",
        "    target_size = (IMG_HEIGHT, IMG_WIDTH),\n",
        "    batch_size = batch_size,\n",
        "    class_mode=\"binary\",\n",
        "    shuffle=True,\n",
        "    seed=42\n",
        ")\n",
        "\n",
        "test_data_gen = test_image_generator.flow_from_directory(\n",
        "        PATH,\n",
        "        target_size=(IMG_HEIGHT, IMG_WIDTH),\n",
        "        batch_size=1,\n",
        "        classes=['test'],\n",
        "        class_mode=None,\n",
        "        shuffle=False\n",
        ")"
      ],
      "execution_count": null,
      "outputs": [
        {
          "output_type": "stream",
          "text": [
            "Found 1000 images belonging to 2 classes.\n",
            "Found 50 images belonging to 1 classes.\n"
          ],
          "name": "stdout"
        }
      ]
    },
    {
      "cell_type": "code",
      "metadata": {
        "id": "-32RRLY_3voj",
        "colab": {
          "base_uri": "https://localhost:8080/"
        },
        "outputId": "ad74d454-5192-463f-8984-26a768f4d3d5"
      },
      "source": [
        "train_image_generator = ImageDataGenerator(\n",
        "    rotation_range=40,\n",
        "    zoom_range=0.1,\n",
        "    vertical_flip=False,\n",
        "    horizontal_flip = True,\n",
        "    rescale=1./127.5 -1,\n",
        "    width_shift_range =0.1,\n",
        "    height_shift_range =0.1,\n",
        "    shear_range=0.1,\n",
        "    brightness_range = [0.8, 1],\n",
        "    fill_mode=\"nearest\")\n",
        "\n",
        "\n",
        "train_data_gen = train_image_generator.flow_from_directory(\n",
        "    directory = train_dir,\n",
        "    target_size = (IMG_HEIGHT, IMG_WIDTH),\n",
        "    # color_mode = \"rgb\",\n",
        "    batch_size = batch_size,\n",
        "    class_mode=\"binary\",\n",
        "    shuffle=True,\n",
        "    # seed=42\n",
        ")"
      ],
      "execution_count": null,
      "outputs": [
        {
          "output_type": "stream",
          "text": [
            "Found 2000 images belonging to 2 classes.\n"
          ],
          "name": "stdout"
        }
      ]
    },
    {
      "cell_type": "code",
      "metadata": {
        "colab": {
          "base_uri": "https://localhost:8080/"
        },
        "id": "QEnfzRmfMCgA",
        "outputId": "ea8668e3-bc60-4bfd-f1db-aadd5d8698ea"
      },
      "source": [
        "### Creating the Model\n",
        "\n",
        "IMG_SHAPE = (IMG_HEIGHT, IMG_WIDTH, 3)\n",
        "\n",
        "# Create the base model from the pre-trained model MobileNet V2\n",
        "base_model = tf.keras.applications.MobileNetV2(input_shape=IMG_SHAPE,\n",
        "                                               include_top=False,\n",
        "                                               weights='imagenet')\n",
        "\n",
        "base_model.trainable = False\n",
        "\n",
        "global_average_layer = tf.keras.layers.GlobalAveragePooling2D()\n",
        "\n",
        "prediction_layer = tf.keras.layers.Dense(2,\n",
        "                                         activation=\"softmax\"\n",
        "                                         )\n",
        "\n",
        "model = tf.keras.Sequential([\n",
        "  base_model,\n",
        "  global_average_layer,\n",
        "  prediction_layer\n",
        "])\n",
        "\n",
        "# base_learning_rate = 0.0001\n",
        "model.compile(#optimizer=tf.keras.optimizers.RMSprop(lr=base_learning_rate),\n",
        "              optimizer=\"adam\",\n",
        "              #loss=tf.keras.losses.BinaryCrossentropy(from_logits=True),\n",
        "              loss=tf.keras.losses.SparseCategoricalCrossentropy(from_logits=True),\n",
        "              metrics=['accuracy'])\n",
        "\n",
        "model.summary()"
      ],
      "execution_count": null,
      "outputs": [
        {
          "output_type": "stream",
          "text": [
            "Model: \"sequential_4\"\n",
            "_________________________________________________________________\n",
            "Layer (type)                 Output Shape              Param #   \n",
            "=================================================================\n",
            "mobilenetv2_1.00_160 (Functi (None, 5, 5, 1280)        2257984   \n",
            "_________________________________________________________________\n",
            "global_average_pooling2d_5 ( (None, 1280)              0         \n",
            "_________________________________________________________________\n",
            "dense_4 (Dense)              (None, 2)                 2562      \n",
            "=================================================================\n",
            "Total params: 2,260,546\n",
            "Trainable params: 2,562\n",
            "Non-trainable params: 2,257,984\n",
            "_________________________________________________________________\n"
          ],
          "name": "stdout"
        }
      ]
    },
    {
      "cell_type": "code",
      "metadata": {
        "id": "tDM8_412NmAg"
      },
      "source": [
        "# base_model.summary()"
      ],
      "execution_count": null,
      "outputs": []
    },
    {
      "cell_type": "code",
      "metadata": {
        "colab": {
          "base_uri": "https://localhost:8080/"
        },
        "id": "xOpzjLNFMJTL",
        "outputId": "1be91718-46e0-495a-868e-ec417dc7c194"
      },
      "source": [
        "### Training\n",
        "\n",
        "# history = model.fit(train_batches,\n",
        "#                     epochs=initial_epochs,\n",
        "#                     validation_data=validation_batches)\n",
        "epochs = 15\n",
        "\n",
        "history = model.fit(train_data_gen,\n",
        "                    epochs = epochs,\n",
        "                    validation_data = val_data_gen)"
      ],
      "execution_count": null,
      "outputs": [
        {
          "output_type": "stream",
          "text": [
            "Epoch 1/15\n",
            "16/16 [==============================] - 24s 2s/step - loss: 0.7537 - accuracy: 0.5255 - val_loss: 0.7355 - val_accuracy: 0.5590\n",
            "Epoch 2/15\n",
            "16/16 [==============================] - 24s 1s/step - loss: 0.7055 - accuracy: 0.5715 - val_loss: 0.6763 - val_accuracy: 0.6100\n",
            "Epoch 3/15\n",
            "16/16 [==============================] - 23s 1s/step - loss: 0.6536 - accuracy: 0.6065 - val_loss: 0.6411 - val_accuracy: 0.6330\n",
            "Epoch 4/15\n",
            "16/16 [==============================] - 23s 1s/step - loss: 0.6394 - accuracy: 0.6290 - val_loss: 0.6194 - val_accuracy: 0.6560\n",
            "Epoch 5/15\n",
            "16/16 [==============================] - 23s 1s/step - loss: 0.6271 - accuracy: 0.6430 - val_loss: 0.6044 - val_accuracy: 0.6550\n",
            "Epoch 6/15\n",
            "16/16 [==============================] - 23s 1s/step - loss: 0.6089 - accuracy: 0.6700 - val_loss: 0.6051 - val_accuracy: 0.6540\n",
            "Epoch 7/15\n",
            "16/16 [==============================] - 23s 1s/step - loss: 0.5931 - accuracy: 0.6810 - val_loss: 0.5962 - val_accuracy: 0.6670\n",
            "Epoch 8/15\n",
            "16/16 [==============================] - 23s 1s/step - loss: 0.5853 - accuracy: 0.6870 - val_loss: 0.5825 - val_accuracy: 0.6800\n",
            "Epoch 9/15\n",
            "16/16 [==============================] - 24s 1s/step - loss: 0.5818 - accuracy: 0.6920 - val_loss: 0.5639 - val_accuracy: 0.6970\n",
            "Epoch 10/15\n",
            "16/16 [==============================] - 24s 1s/step - loss: 0.5707 - accuracy: 0.6895 - val_loss: 0.5526 - val_accuracy: 0.7090\n",
            "Epoch 11/15\n",
            "16/16 [==============================] - 24s 1s/step - loss: 0.5665 - accuracy: 0.7105 - val_loss: 0.5601 - val_accuracy: 0.7050\n",
            "Epoch 12/15\n",
            "16/16 [==============================] - 24s 1s/step - loss: 0.5613 - accuracy: 0.7060 - val_loss: 0.5790 - val_accuracy: 0.6790\n",
            "Epoch 13/15\n",
            "16/16 [==============================] - 24s 1s/step - loss: 0.5625 - accuracy: 0.7055 - val_loss: 0.5791 - val_accuracy: 0.6790\n",
            "Epoch 14/15\n",
            "16/16 [==============================] - 24s 1s/step - loss: 0.5666 - accuracy: 0.7065 - val_loss: 0.5368 - val_accuracy: 0.7160\n",
            "Epoch 15/15\n",
            "16/16 [==============================] - 24s 1s/step - loss: 0.5519 - accuracy: 0.7240 - val_loss: 0.5333 - val_accuracy: 0.7180\n"
          ],
          "name": "stdout"
        }
      ]
    },
    {
      "cell_type": "code",
      "metadata": {
        "id": "3o3mejaJwgzG"
      },
      "source": [
        "# def format_example(image, label):\n",
        "#   \"\"\"\n",
        "#   returns an image that is reshaped to IMG_SIZE\n",
        "#   \"\"\"\n",
        "#   image = tf.cast(image, tf.float32)\n",
        "#   image = (image/127.5) - 1\n",
        "#   image = tf.image.resize(image, (IMG_SIZE, IMG_SIZE))\n",
        "#   return image, label\n",
        "\n",
        "# train = raw_train.map(format_example)\n",
        "# validation = raw_validation.map(format_example)\n",
        "# test = raw_test.map(format_example)\n",
        "\n",
        "# BATCH_SIZE = 32\n",
        "# SHUFFLE_BUFFER_SIZE = 1000\n",
        "\n",
        "# train_batches = train.shuffle(SHUFFLE_BUFFER_SIZE).batch(BATCH_SIZE)\n",
        "# validation_batches = validation.batch(BATCH_SIZE)\n",
        "# test_batches = test.batch(BATCH_SIZE)"
      ],
      "execution_count": null,
      "outputs": []
    },
    {
      "cell_type": "code",
      "metadata": {
        "colab": {
          "base_uri": "https://localhost:8080/",
          "height": 499
        },
        "id": "5xS51mB56OAC",
        "cellView": "form",
        "outputId": "b1474244-6332-455f-852b-6933698cc983"
      },
      "source": [
        "#@title Run the next cell to visualize the accuracy and loss of the model.\n",
        "acc = history.history['accuracy']\n",
        "val_acc = history.history['val_accuracy']\n",
        "\n",
        "loss = history.history['loss']\n",
        "val_loss = history.history['val_loss']\n",
        "\n",
        "epochs_range = range(epochs)\n",
        "# epochs_range = range(5)\n",
        "\n",
        "plt.figure(figsize=(8, 8))\n",
        "plt.subplot(1, 2, 1)\n",
        "plt.plot(epochs_range, acc, label='Training Accuracy')\n",
        "plt.plot(epochs_range, val_acc, label='Validation Accuracy')\n",
        "plt.legend(loc='lower right')\n",
        "plt.title('Training and Validation Accuracy')\n",
        "\n",
        "plt.subplot(1, 2, 2)\n",
        "plt.plot(epochs_range, loss, label='Training Loss')\n",
        "plt.plot(epochs_range, val_loss, label='Validation Loss')\n",
        "plt.legend(loc='upper right')\n",
        "plt.title('Training and Validation Loss')\n",
        "plt.show()"
      ],
      "execution_count": null,
      "outputs": [
        {
          "output_type": "display_data",
          "data": {
            "image/png": "[encoded data removed]",
            "text/plain": [
              "<Figure size 576x576 with 2 Axes>"
            ]
          },
          "metadata": {
            "tags": [],
            "needs_background": "light"
          }
        }
      ]
    },
    {
      "cell_type": "markdown",
      "metadata": {
        "id": "2bWrqi-usz3y"
      },
      "source": [
        "Now it is time to use your model to predict whether a brand new image is a cat or a dog.\n",
        "\n",
        "In this final cell, get the probability that each test image (from `test_data_gen`) is a dog or a cat. `probabilities` should be a list of integers. \n",
        "\n",
        "Call the `plotImages` function and pass in the test images and the probabilities corresponding to each test image.\n",
        "\n",
        "After your run the cell, you should see all 50 test images with a label showing the percentage sure that the image is a cat or a dog. The accuracy will correspond to the accuracy shown in the graph above (after running the previous cell). More training images could lead to a higher accuracy."
      ]
    },
    {
      "cell_type": "markdown",
      "metadata": {
        "id": "222ZZUup6SVO"
      },
      "source": [
        "Run this final cell to see if you passed the challenge or if you need to keep trying."
      ]
    },
    {
      "cell_type": "code",
      "metadata": {
        "id": "MKeYogjPQ0JJ"
      },
      "source": [
        "predictions = model.predict(test_data_gen)\n",
        "# predictions"
      ],
      "execution_count": null,
      "outputs": []
    },
    {
      "cell_type": "code",
      "metadata": {
        "colab": {
          "base_uri": "https://localhost:8080/"
        },
        "id": "4IH86Ux_u7TZ",
        "outputId": "eff2cd86-83f2-43da-c04d-06ec5588a3f2"
      },
      "source": [
        "answers =  [1, 0, 0, 1, 0, 0, 0, 0, 1, 1, 0,\n",
        "            1, 0, 1, 0, 1, 1, 0, 1, 1, 0, 0,\n",
        "            1, 1, 1, 1, 1, 0, 0, 0, 0, 0, 1,\n",
        "            1, 0, 1, 1, 1, 1, 0, 1, 0, 1, 1, \n",
        "            0, 0, 0, 0, 0, 0]\n",
        "\n",
        "correct = 0\n",
        "\n",
        "for probability, answer in zip(\n",
        "                              #  probabilities,\n",
        "                               predictions,\n",
        "                               answers):\n",
        "  if round(probability[1]) == answer:\n",
        "    correct +=1\n",
        "\n",
        "percentage_identified = (correct / len(answers))\n",
        "\n",
        "passed_challenge = percentage_identified > 0.63\n",
        "\n",
        "print(f\"Your model correctly identified {round(percentage_identified, 2)}% of the images of cats and dogs.\")\n",
        "\n",
        "if passed_challenge:\n",
        "  print(\"You passed the challenge!\")\n",
        "else:\n",
        "  print(\"You haven't passed yet. Your model should identify at least 63% of the images. Keep trying. You will get it!\")"
      ],
      "execution_count": null,
      "outputs": [
        {
          "output_type": "stream",
          "text": [
            "Your model correctly identified 0.78% of the images of cats and dogs.\n",
            "You passed the challenge!\n"
          ],
          "name": "stdout"
        }
      ]
    },
    {
      "cell_type": "code",
      "metadata": {
        "id": "BrXu7WFJWAk6"
      },
      "source": [
        "model.save(\"dogs_vs_cats.h5\")  # we can save the model and reload it at anytime in the future\n",
        "# new_model = tf.keras.models.load_model('dogs_vs_cats.h5')"
      ],
      "execution_count": null,
      "outputs": []
    },
    {
      "cell_type": "code",
      "metadata": {
        "id": "fyIRBaZAGbKX"
      },
      "source": [
        ""
      ],
      "execution_count": null,
      "outputs": []
    }
  ]
}